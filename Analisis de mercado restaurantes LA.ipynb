{
 "cells": [
  {
   "cell_type": "markdown",
   "metadata": {},
   "source": [
    "# Estudio de mercado para un café automatizado en Los Ángeles"
   ]
  },
  {
   "cell_type": "markdown",
   "metadata": {},
   "source": [
    "Los Ángeles es una ciudad conocida por su diversidad culinaria y su vibrante escena de restaurantes. Con la tecnología avanzando rápidamente, surge una propuesta innovadora: un café regentado por robots. Esta idea, aunque prometedora, conlleva un alto costo de implementación. Para atraer a posibles inversionistas, es crucial entender las condiciones actuales del mercado y determinar si el éxito inicial puede mantenerse."
   ]
  },
  {
   "cell_type": "markdown",
   "metadata": {},
   "source": [
    "## Preparación de los datos para el análisis."
   ]
  },
  {
   "cell_type": "markdown",
   "metadata": {},
   "source": [
    "### Importar librerías."
   ]
  },
  {
   "cell_type": "code",
   "execution_count": 1,
   "metadata": {},
   "outputs": [],
   "source": [
    "import pandas as pd \n",
    "import matplotlib.pyplot as plt"
   ]
  },
  {
   "cell_type": "markdown",
   "metadata": {},
   "source": [
    "### Cargar datos."
   ]
  },
  {
   "cell_type": "code",
   "execution_count": 2,
   "metadata": {},
   "outputs": [
    {
     "name": "stdout",
     "output_type": "stream",
     "text": [
      "<class 'pandas.core.frame.DataFrame'>\n",
      "RangeIndex: 9651 entries, 0 to 9650\n",
      "Data columns (total 6 columns):\n",
      " #   Column       Non-Null Count  Dtype \n",
      "---  ------       --------------  ----- \n",
      " 0   id           9651 non-null   int64 \n",
      " 1   object_name  9651 non-null   object\n",
      " 2   address      9651 non-null   object\n",
      " 3   chain        9648 non-null   object\n",
      " 4   object_type  9651 non-null   object\n",
      " 5   number       9651 non-null   int64 \n",
      "dtypes: int64(2), object(4)\n",
      "memory usage: 452.5+ KB\n"
     ]
    }
   ],
   "source": [
    "rest_data = pd.read_csv('/datasets/rest_data_us_upd.csv')\n",
    "rest_data.info()"
   ]
  },
  {
   "cell_type": "code",
   "execution_count": 3,
   "metadata": {},
   "outputs": [
    {
     "data": {
      "text/html": [
       "<div>\n",
       "<style scoped>\n",
       "    .dataframe tbody tr th:only-of-type {\n",
       "        vertical-align: middle;\n",
       "    }\n",
       "\n",
       "    .dataframe tbody tr th {\n",
       "        vertical-align: top;\n",
       "    }\n",
       "\n",
       "    .dataframe thead th {\n",
       "        text-align: right;\n",
       "    }\n",
       "</style>\n",
       "<table border=\"1\" class=\"dataframe\">\n",
       "  <thead>\n",
       "    <tr style=\"text-align: right;\">\n",
       "      <th></th>\n",
       "      <th>id</th>\n",
       "      <th>object_name</th>\n",
       "      <th>address</th>\n",
       "      <th>chain</th>\n",
       "      <th>object_type</th>\n",
       "      <th>number</th>\n",
       "    </tr>\n",
       "  </thead>\n",
       "  <tbody>\n",
       "    <tr>\n",
       "      <th>0</th>\n",
       "      <td>11786</td>\n",
       "      <td>HABITAT COFFEE SHOP</td>\n",
       "      <td>3708 N EAGLE ROCK BLVD</td>\n",
       "      <td>False</td>\n",
       "      <td>Cafe</td>\n",
       "      <td>26</td>\n",
       "    </tr>\n",
       "    <tr>\n",
       "      <th>1</th>\n",
       "      <td>11787</td>\n",
       "      <td>REILLY'S</td>\n",
       "      <td>100 WORLD WAY 120</td>\n",
       "      <td>False</td>\n",
       "      <td>Restaurant</td>\n",
       "      <td>9</td>\n",
       "    </tr>\n",
       "    <tr>\n",
       "      <th>2</th>\n",
       "      <td>11788</td>\n",
       "      <td>STREET CHURROS</td>\n",
       "      <td>6801 HOLLYWOOD BLVD 253</td>\n",
       "      <td>False</td>\n",
       "      <td>Fast Food</td>\n",
       "      <td>20</td>\n",
       "    </tr>\n",
       "    <tr>\n",
       "      <th>3</th>\n",
       "      <td>11789</td>\n",
       "      <td>TRINITI ECHO PARK</td>\n",
       "      <td>1814 W SUNSET BLVD</td>\n",
       "      <td>False</td>\n",
       "      <td>Restaurant</td>\n",
       "      <td>22</td>\n",
       "    </tr>\n",
       "    <tr>\n",
       "      <th>4</th>\n",
       "      <td>11790</td>\n",
       "      <td>POLLEN</td>\n",
       "      <td>2100 ECHO PARK AVE</td>\n",
       "      <td>False</td>\n",
       "      <td>Restaurant</td>\n",
       "      <td>20</td>\n",
       "    </tr>\n",
       "  </tbody>\n",
       "</table>\n",
       "</div>"
      ],
      "text/plain": [
       "      id          object_name                  address  chain object_type  \\\n",
       "0  11786  HABITAT COFFEE SHOP   3708 N EAGLE ROCK BLVD  False        Cafe   \n",
       "1  11787             REILLY'S        100 WORLD WAY 120  False  Restaurant   \n",
       "2  11788       STREET CHURROS  6801 HOLLYWOOD BLVD 253  False   Fast Food   \n",
       "3  11789    TRINITI ECHO PARK       1814 W SUNSET BLVD  False  Restaurant   \n",
       "4  11790               POLLEN       2100 ECHO PARK AVE  False  Restaurant   \n",
       "\n",
       "   number  \n",
       "0      26  \n",
       "1       9  \n",
       "2      20  \n",
       "3      22  \n",
       "4      20  "
      ]
     },
     "execution_count": 3,
     "metadata": {},
     "output_type": "execute_result"
    }
   ],
   "source": [
    "rest_data.head()"
   ]
  },
  {
   "cell_type": "markdown",
   "metadata": {},
   "source": [
    "### Optimizar datos."
   ]
  },
  {
   "cell_type": "code",
   "execution_count": 4,
   "metadata": {},
   "outputs": [
    {
     "name": "stdout",
     "output_type": "stream",
     "text": [
      "Valores ausentes en la columna 'chain': 3\n"
     ]
    }
   ],
   "source": [
    "# Contar los valores ausentes en la columna 'chain'\n",
    "missing_chain_count = rest_data['chain'].isnull().sum()\n",
    "print(f\"Valores ausentes en la columna 'chain': {missing_chain_count}\")"
   ]
  },
  {
   "cell_type": "code",
   "execution_count": 5,
   "metadata": {},
   "outputs": [],
   "source": [
    "# Eliminar las filas con valores ausentes en la columna 'chain'\n",
    "rest_data = rest_data.dropna(subset=['chain'])\n",
    "\n",
    "# Convertir la columna 'chain' a tipo booleano\n",
    "rest_data['chain'] = rest_data['chain'].astype(bool)"
   ]
  },
  {
   "cell_type": "code",
   "execution_count": 6,
   "metadata": {},
   "outputs": [
    {
     "name": "stdout",
     "output_type": "stream",
     "text": [
      "id             0\n",
      "object_name    0\n",
      "address        0\n",
      "chain          0\n",
      "object_type    0\n",
      "number         0\n",
      "dtype: int64\n",
      "0\n"
     ]
    }
   ],
   "source": [
    "# Verificar y eliminar filas duplicadas\n",
    "rest_data = rest_data.drop_duplicates()\n",
    "\n",
    "# Confirmar que no hay valores ausentes ni duplicados\n",
    "print(rest_data.isnull().sum())\n",
    "print(rest_data.duplicated().sum())"
   ]
  },
  {
   "cell_type": "code",
   "execution_count": 7,
   "metadata": {},
   "outputs": [
    {
     "name": "stdout",
     "output_type": "stream",
     "text": [
      "<class 'pandas.core.frame.DataFrame'>\n",
      "Int64Index: 9648 entries, 0 to 9650\n",
      "Data columns (total 6 columns):\n",
      " #   Column       Non-Null Count  Dtype \n",
      "---  ------       --------------  ----- \n",
      " 0   id           9648 non-null   int64 \n",
      " 1   object_name  9648 non-null   object\n",
      " 2   address      9648 non-null   object\n",
      " 3   chain        9648 non-null   bool  \n",
      " 4   object_type  9648 non-null   object\n",
      " 5   number       9648 non-null   int64 \n",
      "dtypes: bool(1), int64(2), object(3)\n",
      "memory usage: 461.7+ KB\n",
      "None\n"
     ]
    }
   ],
   "source": [
    "print(rest_data.info())"
   ]
  },
  {
   "cell_type": "markdown",
   "metadata": {},
   "source": [
    "## Análisis de los datos."
   ]
  },
  {
   "cell_type": "markdown",
   "metadata": {},
   "source": [
    "### Proporción de los distintos tipos de establecimiento."
   ]
  },
  {
   "cell_type": "code",
   "execution_count": 8,
   "metadata": {},
   "outputs": [
    {
     "data": {
      "image/png": "[encoded data removed]",
      "text/plain": [
       "<Figure size 1000x500 with 1 Axes>"
      ]
     },
     "metadata": {},
     "output_type": "display_data"
    }
   ],
   "source": [
    "# Contar la frecuencia de cada tipo de establecimiento\n",
    "type_counts = rest_data['object_type'].value_counts()\n",
    "\n",
    "# Calcular las proporciones\n",
    "type_proportions = type_counts / type_counts.sum()\n",
    "\n",
    "# Trazar un gráfico de barras para mostrar las proporciones\n",
    "plt.figure(figsize=(10, 5))\n",
    "type_proportions.plot(kind='bar', color='orange', edgecolor='black')\n",
    "plt.title('Proporciones de los distintos tipos de establecimientos')\n",
    "plt.xlabel('Tipo de establecimiento')\n",
    "plt.ylabel('Proporción')\n",
    "plt.xticks(rotation=45, ha='right')\n",
    "plt.grid(axis='y', linestyle='--', alpha=0.7)\n",
    "plt.tight_layout()\n",
    "plt.show()"
   ]
  },
  {
   "cell_type": "markdown",
   "metadata": {},
   "source": [
    "### Proporción de los establecimientos que pertenecen a una cadena o no."
   ]
  },
  {
   "cell_type": "code",
   "execution_count": 9,
   "metadata": {},
   "outputs": [
    {
     "data": {
      "image/png": "[encoded data removed]",
      "text/plain": [
       "<Figure size 1000x500 with 1 Axes>"
      ]
     },
     "metadata": {},
     "output_type": "display_data"
    }
   ],
   "source": [
    "# Contar la frecuencia de establecimientos que pertenecen a una cadena y de los que no\n",
    "chain_counts = rest_data['chain'].value_counts()\n",
    "\n",
    "# Calcular las proporciones\n",
    "chain_proportions = chain_counts / chain_counts.sum()\n",
    "\n",
    "# Trazar un gráfico de barras para mostrar las proporciones\n",
    "plt.figure(figsize=(10, 5))\n",
    "chain_proportions.plot(kind='bar', color=['pink', 'lightgreen'], edgecolor='black')\n",
    "plt.title('Proporciones de establecimientos que pertenecen a una cadena')\n",
    "plt.xlabel('Pertenece a una cadena')\n",
    "plt.ylabel('Proporción')\n",
    "plt.xticks(ticks=[0, 1], labels=['No', 'Sí'], rotation=0)\n",
    "plt.grid(axis='y', linestyle='--', alpha=0.7)\n",
    "plt.tight_layout()\n",
    "plt.show()"
   ]
  },
  {
   "cell_type": "markdown",
   "metadata": {},
   "source": [
    "### ¿Qué tipo de establecimiento es habitualmente una cadena?"
   ]
  },
  {
   "cell_type": "code",
   "execution_count": 17,
   "metadata": {},
   "outputs": [
    {
     "name": "stdout",
     "output_type": "stream",
     "text": [
      "Bakery        100.000000\n",
      "Bar            26.369863\n",
      "Cafe           61.149425\n",
      "Fast Food      56.754221\n",
      "Pizza          47.962382\n",
      "Restaurant     31.600717\n",
      "Name: object_type, dtype: float64\n"
     ]
    }
   ],
   "source": [
    "# Filtrar el DataFrame para incluir solo los establecimientos que pertenecen a una cadena\n",
    "chain_restaurants = rest_data[rest_data['chain']]\n",
    "\n",
    "# Contar la frecuencia de cada tipo de establecimiento dentro de este subconjunto\n",
    "chain_type_counts = chain_restaurants['object_type'].value_counts()\n",
    "\n",
    "# Contar la frecuencia de cada tipo de establecimiento en el conjunto completo de datos\n",
    "total_type_counts = rest_data['object_type'].value_counts()\n",
    "\n",
    "# Calcular el porcentaje de establecimientos que son cadenas para cada tipo\n",
    "chain_percentage = (chain_type_counts / total_type_counts) * 100\n",
    "\n",
    "print(chain_percentage)"
   ]
  },
  {
   "cell_type": "code",
   "execution_count": 16,
   "metadata": {},
   "outputs": [
    {
     "data": {
      "image/png": "[encoded data removed]",
      "text/plain": [
       "<Figure size 1000x500 with 1 Axes>"
      ]
     },
     "metadata": {},
     "output_type": "display_data"
    }
   ],
   "source": [
    "plt.figure(figsize=(10, 5))\n",
    "chain_percentage.plot(kind='bar', color='lightblue', edgecolor='black')\n",
    "plt.title('¿Qué tipo de establecimiento es habitualmente una cadena?')\n",
    "plt.xlabel('Tipo de establecimiento')\n",
    "plt.ylabel('Porcentaje de cadenas (%)')\n",
    "plt.xticks(rotation=45, ha='right')\n",
    "plt.grid(axis='y', linestyle='--', alpha=0.7)\n",
    "plt.tight_layout()\n",
    "plt.show()"
   ]
  },
  {
   "cell_type": "markdown",
   "metadata": {},
   "source": [
    "### ¿Qué caracteriza a las cadenas?"
   ]
  },
  {
   "cell_type": "code",
   "execution_count": null,
   "metadata": {},
   "outputs": [],
   "source": [
    "# Calcular estadísticas descriptivas del número de asientos para los establecimientos de cadenas\n",
    "avg_seats_chain = chain_restaurants['number'].mean()\n",
    "median_seats_chain = chain_restaurants['number'].median()\n",
    "\n",
    "print(f\"Promedio de número de asientos en establecimientos de cadenas: {avg_seats_chain:.2f}\")\n",
    "print(f\"Mediana de número de asientos en establecimientos de cadenas: {median_seats_chain}\")"
   ]
  },
  {
   "cell_type": "code",
   "execution_count": null,
   "metadata": {},
   "outputs": [],
   "source": [
    "# Filtrar para incluir solo los establecimientos que pertenecen a cadenas y los que no\n",
    "non_chain_restaurants = rest_data[~rest_data['chain']]\n",
    "\n",
    "# Calcular estadísticas descriptivas del número de asientos para los establecimientos de cadenas y los no cadenas\n",
    "avg_seats_non_chain = non_chain_restaurants['number'].mean()\n",
    "median_seats_non_chain = non_chain_restaurants['number'].median()\n",
    "\n",
    "print(f\"Promedio de número de asientos en establecimientos independientes: {avg_seats_non_chain:.2f}\")\n",
    "print(f\"Mediana de número de asientos en establecimientos independientes: {median_seats_non_chain}\")"
   ]
  },
  {
   "cell_type": "code",
   "execution_count": null,
   "metadata": {},
   "outputs": [],
   "source": [
    "plt.figure(figsize=(10, 5))\n",
    "\n",
    "plt.hist(chain_restaurants['number'], bins=30, color='purple', alpha=0.7, label='Cadenas', edgecolor='black')\n",
    "plt.hist(non_chain_restaurants['number'], bins=30, color='skyblue', alpha=0.7, label='Independientes', edgecolor='black')\n",
    "\n",
    "plt.title('Comparación de distribución de número de asientos')\n",
    "plt.xlabel('Número de asientos')\n",
    "plt.ylabel('Frecuencia')\n",
    "plt.legend()\n",
    "plt.grid(axis='y', linestyle='--', alpha=0.7)\n",
    "plt.tight_layout()\n",
    "plt.show()"
   ]
  },
  {
   "cell_type": "markdown",
   "metadata": {},
   "source": [
    "### Promedio de número de asientos para cada tipo de restaurante."
   ]
  },
  {
   "cell_type": "code",
   "execution_count": null,
   "metadata": {},
   "outputs": [],
   "source": [
    "# Calcular el promedio de número de asientos por tipo de restaurante\n",
    "avg_seats_by_type = rest_data.groupby('object_type')['number'].mean().sort_values(ascending=False)\n",
    "\n",
    "# Identificar el tipo de restaurante con el mayor promedio de asientos\n",
    "max_avg_seats_type = avg_seats_by_type.idxmax()\n",
    "max_avg_seats_value = avg_seats_by_type.max()\n",
    "\n",
    "print(f\"Tipo de restaurante con el mayor promedio de asientos: {max_avg_seats_type}\")\n",
    "print(f\"Promedio de número de asientos: {max_avg_seats_value:.2f}\")"
   ]
  },
  {
   "cell_type": "code",
   "execution_count": null,
   "metadata": {},
   "outputs": [],
   "source": [
    "# Visualizar el promedio de número de asientos por tipo de restaurante en un gráfico de barras\n",
    "plt.figure(figsize=(10, 5))\n",
    "avg_seats_by_type.plot(kind='bar', color='red', alpha=0.6, edgecolor='black')\n",
    "plt.title('Promedio de número de asientos por tipo de establecimiento')\n",
    "plt.xlabel('Tipo de establecimiento')\n",
    "plt.ylabel('Promedio de número de asientos')\n",
    "plt.xticks(rotation=45, ha='right')\n",
    "plt.grid(axis='y', linestyle='--', alpha=0.7)\n",
    "plt.tight_layout()\n",
    "plt.show()"
   ]
  },
  {
   "cell_type": "markdown",
   "metadata": {},
   "source": [
    "### Datos de los nombres de las calles."
   ]
  },
  {
   "cell_type": "code",
   "execution_count": null,
   "metadata": {},
   "outputs": [],
   "source": [
    "# Definir una función para extraer el nombre de la calle\n",
    "def extract_street_name(address):\n",
    "    # Dividir la dirección por espacios y tomar todas las partes excepto la primera (número de la calle)\n",
    "    parts = address.split(' ', 1)\n",
    "    if len(parts) > 1:\n",
    "        return parts[1].strip()  # Devuelve todo después del primer espacio (nombre de la calle)\n",
    "    else:\n",
    "        return None\n",
    "    \n",
    "# Aplicar la función a la columna 'address' para extraer los nombres de las calles\n",
    "rest_data['street_name'] = rest_data['address'].apply(extract_street_name)\n",
    "\n",
    "print(rest_data['street_name'].head(10))"
   ]
  },
  {
   "cell_type": "markdown",
   "metadata": {},
   "source": [
    "### Las diez mejores calles por número de establecimientos."
   ]
  },
  {
   "cell_type": "code",
   "execution_count": null,
   "metadata": {},
   "outputs": [],
   "source": [
    "# Contar el número de establecimientos por calle\n",
    "top_streets = rest_data['street_name'].value_counts().nlargest(10)\n",
    "\n",
    "# Visualizar los resultados en un gráfico de barras\n",
    "plt.figure(figsize=(10, 5))\n",
    "top_streets.plot(kind='bar', color='green', alpha=0.5, edgecolor='black')\n",
    "plt.title('Las 10 mejores calles por número de establecimientos')\n",
    "plt.xlabel('Nombre de la calle')\n",
    "plt.ylabel('Número de restaurantes')\n",
    "plt.xticks(rotation=45, ha='right')\n",
    "plt.grid(axis='y', linestyle='--', alpha=0.7)\n",
    "plt.tight_layout()\n",
    "plt.show()"
   ]
  },
  {
   "cell_type": "markdown",
   "metadata": {},
   "source": [
    "### Calles con solo un establecimiento."
   ]
  },
  {
   "cell_type": "code",
   "execution_count": null,
   "metadata": {},
   "outputs": [],
   "source": [
    "# Contar el número de establecimientos por calle\n",
    "street_counts = rest_data['street_name'].value_counts()\n",
    "\n",
    "# Encontrar el número de calles con exactamente un establecimiento\n",
    "streets_with_one_restaurant = street_counts[street_counts == 1]\n",
    "\n",
    "# Contar el número de calles con exactamente un establecimiento\n",
    "num_streets_with_one_restaurant = streets_with_one_restaurant.size\n",
    "\n",
    "print(streets_with_one_restaurant.head())\n",
    "print(f\"\\nNúmero de calles que solo tienen un establecimiento: {num_streets_with_one_restaurant}\")"
   ]
  },
  {
   "cell_type": "markdown",
   "metadata": {},
   "source": [
    "### Distribución de calles con muchos restaurantes."
   ]
  },
  {
   "cell_type": "code",
   "execution_count": null,
   "metadata": {},
   "outputs": [],
   "source": [
    "# Utilizar la variable top_streets previamente calculada\n",
    "top_streets = rest_data['street_name'].value_counts().nlargest(10).index\n",
    "\n",
    "# Filtrar los datos para las calles seleccionadas\n",
    "selected_streets_data = rest_data[rest_data['street_name'].isin(top_streets)]\n",
    "\n",
    "# Crear un gráfico de caja para mostrar la distribución del número de asientos\n",
    "plt.figure(figsize=(12, 8))\n",
    "plt.boxplot([selected_streets_data[selected_streets_data['street_name'] == street]['number'] for street in top_streets],\n",
    "            labels=top_streets)\n",
    "plt.title('Distribución del número de asientos en calles con numerosos establecimientos')\n",
    "plt.xlabel('Calle')\n",
    "plt.ylabel('Número de asientos')\n",
    "plt.xticks(rotation=45, ha='right')\n",
    "plt.grid(axis='y', linestyle='--', alpha=0.7)\n",
    "plt.tight_layout()\n",
    "plt.show()"
   ]
  },
  {
   "cell_type": "markdown",
   "metadata": {},
   "source": [
    "### Conclusiones. "
   ]
  },
  {
   "cell_type": "markdown",
   "metadata": {},
   "source": [
    "El proyecto del café robotizado en Los Ángeles tiene un gran potencial para innovar en el mercado de restaurantes. Al iniciar como un establecimiento independiente con un número moderado de asientos y luego considerar una expansión a una cadena, aprovechar las tendencias actuales del mercado y maximizar las oportunidades de éxito. La clave estará en ofrecer una experiencia única y diferenciada que combine tecnología avanzada con un excelente servicio al cliente."
   ]
  },
  {
   "cell_type": "markdown",
   "metadata": {},
   "source": [
    "Presentación: https://drive.google.com/file/d/1tImbHN6zQr2Wi9p8XGxPs_rxsfTzn-_q/view?usp=sharing"
   ]
  }
 ],
 "metadata": {
  "ExecuteTimeLog": [
   {
    "duration": 527,
    "start_time": "2024-06-06T22:52:38.889Z"
   },
   {
    "duration": 48,
    "start_time": "2024-06-06T22:53:54.364Z"
   },
   {
    "duration": 33,
    "start_time": "2024-06-06T22:54:11.808Z"
   },
   {
    "duration": 36,
    "start_time": "2024-06-06T22:56:55.078Z"
   },
   {
    "duration": 20,
    "start_time": "2024-06-06T22:57:05.862Z"
   },
   {
    "duration": 309,
    "start_time": "2024-06-10T18:10:07.890Z"
   },
   {
    "duration": 488,
    "start_time": "2024-06-10T18:10:11.814Z"
   },
   {
    "duration": 53,
    "start_time": "2024-06-10T18:10:13.968Z"
   },
   {
    "duration": 18,
    "start_time": "2024-06-10T18:10:20.866Z"
   },
   {
    "duration": 35,
    "start_time": "2024-06-10T18:20:52.836Z"
   },
   {
    "duration": 23,
    "start_time": "2024-06-10T18:21:13.761Z"
   },
   {
    "duration": 435,
    "start_time": "2024-06-10T18:26:51.972Z"
   },
   {
    "duration": 35,
    "start_time": "2024-06-10T18:26:52.414Z"
   },
   {
    "duration": 22,
    "start_time": "2024-06-10T18:26:52.452Z"
   },
   {
    "duration": 6,
    "start_time": "2024-06-10T18:26:56.621Z"
   },
   {
    "duration": 10,
    "start_time": "2024-06-10T18:27:31.648Z"
   },
   {
    "duration": 5,
    "start_time": "2024-06-10T18:28:05.712Z"
   },
   {
    "duration": 22,
    "start_time": "2024-06-10T18:28:16.236Z"
   },
   {
    "duration": 14,
    "start_time": "2024-06-10T18:28:27.400Z"
   },
   {
    "duration": 3907,
    "start_time": "2024-06-10T18:30:36.427Z"
   },
   {
    "duration": 445,
    "start_time": "2024-06-10T18:32:22.314Z"
   },
   {
    "duration": 7,
    "start_time": "2024-06-10T18:32:58.108Z"
   },
   {
    "duration": 421,
    "start_time": "2024-06-10T18:34:30.431Z"
   },
   {
    "duration": 452,
    "start_time": "2024-06-10T18:34:41.575Z"
   },
   {
    "duration": 403,
    "start_time": "2024-06-10T18:35:28.427Z"
   },
   {
    "duration": 398,
    "start_time": "2024-06-10T18:35:38.545Z"
   },
   {
    "duration": 6,
    "start_time": "2024-06-10T18:35:54.511Z"
   },
   {
    "duration": 339,
    "start_time": "2024-06-10T18:45:46.459Z"
   },
   {
    "duration": 312,
    "start_time": "2024-06-10T18:45:52.194Z"
   },
   {
    "duration": 348,
    "start_time": "2024-06-10T18:46:23.441Z"
   },
   {
    "duration": 5,
    "start_time": "2024-06-10T18:46:39.614Z"
   },
   {
    "duration": 5,
    "start_time": "2024-06-10T18:47:20.993Z"
   },
   {
    "duration": 329,
    "start_time": "2024-06-10T18:47:46.466Z"
   },
   {
    "duration": 323,
    "start_time": "2024-06-10T18:47:51.779Z"
   },
   {
    "duration": 388,
    "start_time": "2024-06-10T18:48:09.557Z"
   },
   {
    "duration": 344,
    "start_time": "2024-06-10T18:48:35.875Z"
   },
   {
    "duration": 10,
    "start_time": "2024-06-10T18:58:23.720Z"
   },
   {
    "duration": 13,
    "start_time": "2024-06-10T18:58:44.389Z"
   },
   {
    "duration": 5,
    "start_time": "2024-06-10T19:00:57.600Z"
   },
   {
    "duration": 4,
    "start_time": "2024-06-10T19:04:24.300Z"
   },
   {
    "duration": 9,
    "start_time": "2024-06-10T19:06:40.750Z"
   },
   {
    "duration": 9,
    "start_time": "2024-06-10T19:06:51.315Z"
   },
   {
    "duration": 6,
    "start_time": "2024-06-10T19:07:00.011Z"
   },
   {
    "duration": 10,
    "start_time": "2024-06-10T19:07:09.984Z"
   },
   {
    "duration": 373,
    "start_time": "2024-06-10T19:12:21.967Z"
   },
   {
    "duration": 430,
    "start_time": "2024-06-10T19:12:31.838Z"
   },
   {
    "duration": 10,
    "start_time": "2024-06-10T19:21:31.423Z"
   },
   {
    "duration": 6,
    "start_time": "2024-06-10T19:22:01.125Z"
   },
   {
    "duration": 10,
    "start_time": "2024-06-10T19:22:04.977Z"
   },
   {
    "duration": 8,
    "start_time": "2024-06-10T19:22:12.428Z"
   },
   {
    "duration": 9,
    "start_time": "2024-06-10T19:22:51.251Z"
   },
   {
    "duration": 530,
    "start_time": "2024-06-10T19:24:56.256Z"
   },
   {
    "duration": 518,
    "start_time": "2024-06-10T19:25:05.642Z"
   },
   {
    "duration": 515,
    "start_time": "2024-06-10T19:25:38.758Z"
   },
   {
    "duration": 341,
    "start_time": "2024-06-10T19:25:58.890Z"
   },
   {
    "duration": 354,
    "start_time": "2024-06-10T19:26:05.581Z"
   },
   {
    "duration": 332,
    "start_time": "2024-06-10T19:26:17.064Z"
   },
   {
    "duration": 336,
    "start_time": "2024-06-10T19:26:46.185Z"
   },
   {
    "duration": 457,
    "start_time": "2024-06-10T19:26:53.697Z"
   },
   {
    "duration": 9,
    "start_time": "2024-06-10T19:31:08.716Z"
   },
   {
    "duration": 5,
    "start_time": "2024-06-10T19:33:35.648Z"
   },
   {
    "duration": 4,
    "start_time": "2024-06-10T19:33:59.669Z"
   },
   {
    "duration": 5,
    "start_time": "2024-06-10T19:34:05.434Z"
   },
   {
    "duration": 388,
    "start_time": "2024-06-10T19:34:16.266Z"
   },
   {
    "duration": 375,
    "start_time": "2024-06-10T19:34:39.268Z"
   },
   {
    "duration": 338,
    "start_time": "2024-06-10T19:34:49.176Z"
   },
   {
    "duration": 384,
    "start_time": "2024-06-10T19:35:10.678Z"
   },
   {
    "duration": 379,
    "start_time": "2024-06-10T19:35:19.934Z"
   },
   {
    "duration": 394,
    "start_time": "2024-06-10T19:36:12.663Z"
   },
   {
    "duration": 391,
    "start_time": "2024-06-10T19:37:33.055Z"
   },
   {
    "duration": 517,
    "start_time": "2024-06-10T19:38:03.728Z"
   },
   {
    "duration": 378,
    "start_time": "2024-06-10T19:49:36.939Z"
   },
   {
    "duration": 402,
    "start_time": "2024-06-10T19:49:47.338Z"
   },
   {
    "duration": 391,
    "start_time": "2024-06-10T19:49:58.450Z"
   },
   {
    "duration": 375,
    "start_time": "2024-06-10T19:50:07.470Z"
   },
   {
    "duration": 16,
    "start_time": "2024-06-10T19:51:28.019Z"
   },
   {
    "duration": 14,
    "start_time": "2024-06-10T19:52:09.790Z"
   },
   {
    "duration": 16,
    "start_time": "2024-06-10T19:52:17.032Z"
   },
   {
    "duration": 12,
    "start_time": "2024-06-10T19:52:30.536Z"
   },
   {
    "duration": 462,
    "start_time": "2024-06-10T20:08:29.755Z"
   },
   {
    "duration": 429,
    "start_time": "2024-06-10T20:10:49.695Z"
   },
   {
    "duration": 442,
    "start_time": "2024-06-10T20:10:56.778Z"
   },
   {
    "duration": 438,
    "start_time": "2024-06-10T20:11:03.624Z"
   },
   {
    "duration": 12,
    "start_time": "2024-06-10T20:15:07.046Z"
   },
   {
    "duration": 14,
    "start_time": "2024-06-10T20:16:00.303Z"
   },
   {
    "duration": 19,
    "start_time": "2024-06-10T20:16:23.621Z"
   },
   {
    "duration": 5,
    "start_time": "2024-06-10T20:21:01.289Z"
   },
   {
    "duration": 456,
    "start_time": "2024-06-10T20:21:51.758Z"
   },
   {
    "duration": 1154,
    "start_time": "2024-06-10T20:36:03.416Z"
   },
   {
    "duration": 1419,
    "start_time": "2024-06-10T20:37:32.050Z"
   },
   {
    "duration": 15,
    "start_time": "2024-06-10T20:40:58.626Z"
   },
   {
    "duration": 6,
    "start_time": "2024-06-10T20:41:30.664Z"
   },
   {
    "duration": 456,
    "start_time": "2024-06-10T20:43:14.830Z"
   },
   {
    "duration": 449,
    "start_time": "2024-06-10T20:45:03.910Z"
   },
   {
    "duration": 364,
    "start_time": "2024-06-10T20:47:56.461Z"
   },
   {
    "duration": 14423,
    "start_time": "2024-06-10T20:48:21.117Z"
   },
   {
    "duration": 998,
    "start_time": "2024-06-10T20:49:39.477Z"
   },
   {
    "duration": 637,
    "start_time": "2024-06-10T20:51:26.548Z"
   },
   {
    "duration": 335,
    "start_time": "2024-06-11T00:31:43.609Z"
   },
   {
    "duration": 4335,
    "start_time": "2024-06-11T00:43:31.833Z"
   },
   {
    "duration": 47,
    "start_time": "2024-06-11T00:43:36.172Z"
   },
   {
    "duration": 26,
    "start_time": "2024-06-11T00:43:36.223Z"
   },
   {
    "duration": 6,
    "start_time": "2024-06-11T00:43:36.254Z"
   },
   {
    "duration": 11,
    "start_time": "2024-06-11T00:43:36.265Z"
   },
   {
    "duration": 69,
    "start_time": "2024-06-11T00:43:36.279Z"
   },
   {
    "duration": 15,
    "start_time": "2024-06-11T00:43:36.351Z"
   },
   {
    "duration": 507,
    "start_time": "2024-06-11T00:43:36.369Z"
   },
   {
    "duration": 357,
    "start_time": "2024-06-11T00:43:36.879Z"
   },
   {
    "duration": 10,
    "start_time": "2024-06-11T00:43:37.240Z"
   },
   {
    "duration": 6,
    "start_time": "2024-06-11T00:43:37.254Z"
   },
   {
    "duration": 9,
    "start_time": "2024-06-11T00:43:37.264Z"
   },
   {
    "duration": 591,
    "start_time": "2024-06-11T00:43:37.276Z"
   },
   {
    "duration": 10,
    "start_time": "2024-06-11T00:43:37.872Z"
   },
   {
    "duration": 375,
    "start_time": "2024-06-11T00:43:37.884Z"
   },
   {
    "duration": 14,
    "start_time": "2024-06-11T00:43:38.263Z"
   },
   {
    "duration": 459,
    "start_time": "2024-06-11T00:43:38.280Z"
   },
   {
    "duration": 10,
    "start_time": "2024-06-11T00:43:38.742Z"
   },
   {
    "duration": 571,
    "start_time": "2024-06-11T00:43:38.756Z"
   },
   {
    "duration": 15,
    "start_time": "2024-06-11T00:45:26.615Z"
   },
   {
    "duration": 572,
    "start_time": "2024-06-11T00:45:55.194Z"
   },
   {
    "duration": 324,
    "start_time": "2024-06-12T20:20:14.243Z"
   },
   {
    "duration": 4523,
    "start_time": "2024-06-12T20:20:25.934Z"
   },
   {
    "duration": 49,
    "start_time": "2024-06-12T20:20:30.462Z"
   },
   {
    "duration": 26,
    "start_time": "2024-06-12T20:20:30.514Z"
   },
   {
    "duration": 6,
    "start_time": "2024-06-12T20:20:30.544Z"
   },
   {
    "duration": 14,
    "start_time": "2024-06-12T20:20:30.553Z"
   },
   {
    "duration": 63,
    "start_time": "2024-06-12T20:20:30.570Z"
   },
   {
    "duration": 18,
    "start_time": "2024-06-12T20:20:30.636Z"
   },
   {
    "duration": 427,
    "start_time": "2024-06-12T20:20:30.657Z"
   },
   {
    "duration": 363,
    "start_time": "2024-06-12T20:20:31.088Z"
   },
   {
    "duration": 439,
    "start_time": "2024-06-12T20:20:31.458Z"
   },
   {
    "duration": 10,
    "start_time": "2024-06-12T20:20:56.689Z"
   },
   {
    "duration": 12,
    "start_time": "2024-06-12T20:21:54.415Z"
   },
   {
    "duration": 13,
    "start_time": "2024-06-12T20:23:24.408Z"
   },
   {
    "duration": 379,
    "start_time": "2024-06-12T20:23:55.803Z"
   },
   {
    "duration": 387,
    "start_time": "2024-06-12T20:25:07.472Z"
   },
   {
    "duration": 362,
    "start_time": "2024-06-12T20:27:05.101Z"
   },
   {
    "duration": 14,
    "start_time": "2024-06-12T20:27:32.331Z"
   }
  ],
  "kernelspec": {
   "display_name": "Python 3 (ipykernel)",
   "language": "python",
   "name": "python3"
  },
  "language_info": {
   "codemirror_mode": {
    "name": "ipython",
    "version": 3
   },
   "file_extension": ".py",
   "mimetype": "text/x-python",
   "name": "python",
   "nbconvert_exporter": "python",
   "pygments_lexer": "ipython3",
   "version": "3.9.19"
  },
  "toc": {
   "base_numbering": 1,
   "nav_menu": {},
   "number_sections": true,
   "sideBar": true,
   "skip_h1_title": true,
   "title_cell": "Table of Contents",
   "title_sidebar": "Contents",
   "toc_cell": false,
   "toc_position": {
    "height": "calc(100% - 180px)",
    "left": "10px",
    "top": "150px",
    "width": "257.166px"
   },
   "toc_section_display": true,
   "toc_window_display": true
  }
 },
 "nbformat": 4,
 "nbformat_minor": 2
}
